{
 "cells": [
  {
   "cell_type": "code",
   "execution_count": 1,
   "id": "6b0a7891-b65c-42a1-903e-fc09c1bfa4ed",
   "metadata": {},
   "outputs": [],
   "source": [
    "#Q1. Which keyword is used to create a function? Create a function to return a list of odd numbers in the range of 1 to 25.\n",
    "\n",
    "#=> The def keyword is used to create a function, def means definition of a function, it is most important to write def\n",
    "#(in staring of function) to describe a function.\n",
    "\n",
    "def odd_numbers(l):\n",
    "    l1 = []\n",
    "    for i in l:\n",
    "        if i%2 != 0:\n",
    "            l1.append(i)\n",
    "    return l1\n",
    "    \n",
    "            "
   ]
  },
  {
   "cell_type": "code",
   "execution_count": 2,
   "id": "8d31ce3e-0768-4d8d-8685-fc720fd05d27",
   "metadata": {},
   "outputs": [
    {
     "name": "stdout",
     "output_type": "stream",
     "text": [
      "[1, 3, 5, 7, 9, 11, 13, 15, 17, 19, 21, 23, 25]\n"
     ]
    }
   ],
   "source": [
    "l = range(1,26)\n",
    "print(odd_numbers(l))"
   ]
  },
  {
   "cell_type": "code",
   "execution_count": 18,
   "id": "d4cdaf4b-002a-4340-9dd6-0dd43e97faf6",
   "metadata": {},
   "outputs": [
    {
     "name": "stdout",
     "output_type": "stream",
     "text": [
      "[1, 2, 5, 96, 4, 6, 4]\n",
      "['p', 'a', 'i', 's', 'r', 'Data']\n",
      "['name', 'email', 'mobile', 'DoB']\n",
      "['priyanshu', 'priyanshudekate100@gmail.com', 9156992846, '10 - 5 - 2004']\n"
     ]
    }
   ],
   "source": [
    "#Q2. Why *args and **kwargs is used in some functions? Create a function each for *args and **kwargs\n",
    "#to demonstrate their use.\n",
    "\n",
    "#-> *args and **kwargs are used in some functions because when we have to make a program of functions in which\n",
    "# we don't know how many arguments user will pass then we have to create a function using *args keyword\n",
    "# and when we have to pass dictionary of data (keys and values) as an argument we use **kwargs.\n",
    "\n",
    "#1)\n",
    "\n",
    "def first_example(*args):\n",
    "    int_list = []\n",
    "    string_list = []\n",
    "    for i in args:\n",
    "        if type(i) == int:\n",
    "            int_list.append(i)\n",
    "        elif type(i) == str:\n",
    "            string_list.append(i)\n",
    "    return int_list,string_list\n",
    "\n",
    "container = first_example(1,2,5,'p',96,'a','i',4,6,'s',4,'r',\"Data\")\n",
    "\n",
    "for i in container:\n",
    "    print(i)\n",
    "            \n",
    "#2)\n",
    "\n",
    "def second_example(**kwargs):\n",
    "    \n",
    "    keys_list = []\n",
    "    values_list = []\n",
    "    for key, value in kwargs.items():\n",
    "        keys_list.append(key)\n",
    "        values_list.append(value)\n",
    "    \n",
    "    return keys_list,values_list\n",
    "\n",
    "o = second_example(name = \"priyanshu\",email = \"priyanshudekate100@gmail.com\",mobile = 9156992846,DoB = \"10 - 5 - 2004\")\n",
    "    \n",
    "for i in o:\n",
    "    print(i)\n",
    "\n",
    "        \n",
    "    \n",
    "            "
   ]
  },
  {
   "cell_type": "code",
   "execution_count": 5,
   "id": "c3325243-ca46-4047-a8d5-04f320cbd031",
   "metadata": {},
   "outputs": [
    {
     "name": "stdout",
     "output_type": "stream",
     "text": [
      "2\n",
      "4\n",
      "6\n",
      "8\n",
      "10\n"
     ]
    }
   ],
   "source": [
    "# Q3. What is an iterator in python? Name the method used to initialise the iterator object and the method\n",
    "# used for iteration. Use these methods to print the first five elements of the given list [2, 4, 6, 8, 10, 12, 14, 16, 18, 20].\n",
    "\n",
    "#=> Iterator in python is a object that is used to iterate the iterable object like string,list,tuple,set,dictionary.\n",
    "#=> iter() method is used to initialise the iterator object.\n",
    "#= next() method is used for the iteration.\n",
    "\n",
    "ls = [2, 4, 6, 8, 10, 12, 14,16, 18, 20]\n",
    "\n",
    "iterator = iter(ls)\n",
    "\n",
    "print(next(iterator))\n",
    "print(next(iterator))\n",
    "print(next(iterator))\n",
    "print(next(iterator))\n",
    "print(next(iterator))\n",
    "\n",
    "\n"
   ]
  },
  {
   "cell_type": "code",
   "execution_count": 10,
   "id": "a3aa1098-4489-472a-a91f-0b7bd5530ba2",
   "metadata": {},
   "outputs": [
    {
     "name": "stdin",
     "output_type": "stream",
     "text": [
      "Enter the limit of Even numbers :-  10\n"
     ]
    },
    {
     "name": "stdout",
     "output_type": "stream",
     "text": [
      "0 2 4 6 8 10 "
     ]
    }
   ],
   "source": [
    "#Q.4 What is a generator function in python? Why yield keyword is used? Give an example of a generator function.\n",
    "\n",
    "#=> generator function is a special function in python that used to return the iterator object with a sequence of values or(generator object) instead returning the combine single value at once.\n",
    "# Generator function use a yield keyword rather than return statement to retrun the value.\n",
    "\n",
    "#=> yield keyword is used for return the  iterate value to the caller statement and it pause the execution of program till next call.\n",
    "\n",
    "\n",
    "def returnEvenNumber(n):\n",
    "    \n",
    "    i = 0\n",
    "    \n",
    "    while i<=n:\n",
    "        if i%2 == 0:\n",
    "            yield i\n",
    "        i+=1\n",
    "\n",
    "n = int(input(\"Enter the limit of Even numbers :- \"))\n",
    "EvenNum = returnEvenNumber(n)\n",
    "\n",
    "# print(next(EvenNum))\n",
    "# print(next(EvenNum))\n",
    "# print(next(EvenNum))\n",
    "# print(next(EvenNum))\n",
    "# print(next(EvenNum))\n",
    "\n",
    "for i in returnEvenNumber(n):\n",
    "    print(i,end=\" \")\n",
    "\n",
    "#Note :- we can use next() method or for loop to print the output to the console."
   ]
  },
  {
   "cell_type": "code",
   "execution_count": null,
   "id": "228b657f-dcff-4b2f-b98c-8ec97ced4648",
   "metadata": {},
   "outputs": [],
   "source": []
  },
  {
   "cell_type": "code",
   "execution_count": 9,
   "id": "16449316-cfcd-4deb-bc02-3ca45871ce98",
   "metadata": {},
   "outputs": [
    {
     "name": "stdout",
     "output_type": "stream",
     "text": [
      "2\n",
      "3\n",
      "5\n",
      "7\n",
      "11\n",
      "13\n",
      "17\n",
      "19\n",
      "23\n",
      "29\n",
      "31\n",
      "37\n",
      "41\n",
      "43\n",
      "47\n",
      "53\n",
      "59\n",
      "61\n",
      "67\n",
      "71\n"
     ]
    }
   ],
   "source": [
    "#Q5. Create a generator function for prime numbers less than 1000. Use the next() method to print the\n",
    "#first 20 prime numbers.\n",
    "\n",
    "def prime_numbers():\n",
    "    \n",
    "    i = 1\n",
    "    j = 2\n",
    "    prime = 0\n",
    "    while i<1000:\n",
    "        while j<i:\n",
    "            if i % j != 0:\n",
    "                prime = 1\n",
    "            \n",
    "            else:\n",
    "                prime = 0\n",
    "                break \n",
    "            \n",
    "            j+=1\n",
    "                \n",
    "        if prime == 1 or i == 2:\n",
    "            yield i\n",
    "            \n",
    "        i+=1\n",
    "        j=2\n",
    "\n",
    "\n",
    "number = prime_numbers()\n",
    "\n",
    "print(next(number))\n",
    "print(next(number))\n",
    "print(next(number))\n",
    "print(next(number))\n",
    "print(next(number))\n",
    "print(next(number))\n",
    "print(next(number))\n",
    "print(next(number))\n",
    "print(next(number))\n",
    "print(next(number))\n",
    "print(next(number))\n",
    "print(next(number))\n",
    "print(next(number))\n",
    "print(next(number))\n",
    "print(next(number))\n",
    "print(next(number))\n",
    "print(next(number))\n",
    "print(next(number))\n",
    "print(next(number))\n",
    "print(next(number))"
   ]
  },
  {
   "cell_type": "code",
   "execution_count": 10,
   "id": "0cea923c-d3a9-49b5-bde6-03c06c8c7580",
   "metadata": {},
   "outputs": [
    {
     "name": "stdout",
     "output_type": "stream",
     "text": [
      "0\n",
      "1\n",
      "1\n",
      "2\n",
      "3\n",
      "5\n",
      "8\n",
      "13\n",
      "21\n",
      "34\n"
     ]
    }
   ],
   "source": [
    "# Q6. Write a python program to print the first 10 Fibonacci numbers using a while loop.\n",
    "\n",
    "def fibo():\n",
    "    a = 0\n",
    "    b = 1\n",
    "    i = 0\n",
    "    while i<10:\n",
    "        yield a\n",
    "        a,b = b,a+b\n",
    "        i+=1\n",
    "        \n",
    "for i in fibo():\n",
    "    print(i)\n",
    "#Note := As per the given question this program only for the first 10 fibonacci sequence of number.     "
   ]
  },
  {
   "cell_type": "code",
   "execution_count": 1,
   "id": "b421052f-72e8-4469-be1e-495678101027",
   "metadata": {},
   "outputs": [
    {
     "name": "stdout",
     "output_type": "stream",
     "text": [
      "['p', 'w', 's', 'k', 'i', 'l', 'l', 's']\n"
     ]
    }
   ],
   "source": [
    "# Q7. Write a List Comprehension to iterate through the given string: ‘pwskills’.\n",
    "# Expected output: ['p', 'w', 's', 'k', 'i', 'l', 'l', 's']\n",
    "\n",
    "l = [i for i in \"pwskills\"]\n",
    "\n",
    "print(l)"
   ]
  },
  {
   "cell_type": "code",
   "execution_count": 5,
   "id": "fb4a46b1-2552-4fe0-8de8-afde0094c0c5",
   "metadata": {},
   "outputs": [
    {
     "name": "stdin",
     "output_type": "stream",
     "text": [
      "Enter the number :-  121\n"
     ]
    },
    {
     "name": "stdout",
     "output_type": "stream",
     "text": [
      " 121 is a  Palindrom.\n"
     ]
    }
   ],
   "source": [
    "# Q8. Write a python program to check whether a given number is Palindrome or not using a while loop.\n",
    "\n",
    "\n",
    "def check(number):\n",
    "\n",
    "\n",
    "    reverse = 0\n",
    "    while number>0:\n",
    "        \n",
    "        digit = number % 10\n",
    "        \n",
    "        reverse = reverse * 10 + digit\n",
    "        \n",
    "        number = number // 10 \n",
    "    \n",
    "    return reverse\n",
    "\n",
    "\n",
    "num = int(input(\"Enter the number :- \"))\n",
    "\n",
    "x = check(num)\n",
    "\n",
    "if num == x:\n",
    "    print(f\" {num} is a  Palindrom.\")\n",
    "else:\n",
    "    print(f\" {num} is not a Palindrom.\")\n",
    "\n",
    "        \n",
    "    "
   ]
  },
  {
   "cell_type": "code",
   "execution_count": 6,
   "id": "18796041-b9bf-4e36-8319-02e74d1e970e",
   "metadata": {},
   "outputs": [
    {
     "name": "stdout",
     "output_type": "stream",
     "text": [
      "[1, 3, 5, 7, 9, 11, 13, 15, 17, 19, 21, 23, 25, 27, 29, 31, 33, 35, 37, 39, 41, 43, 45, 47, 49, 51, 53, 55, 57, 59, 61, 63, 65, 67, 69, 71, 73, 75, 77, 79, 81, 83, 85, 87, 89, 91, 93, 95, 97, 99]\n"
     ]
    }
   ],
   "source": [
    "# Q9. Write a code to print odd numbers from 1 to 100 using list comprehension.\n",
    "# Note: Use a list comprehension to create a list from 1 to 100 and use another List comprehension to filter\n",
    "# out odd numbers.\n",
    "\n",
    "l = [j for j in [i for i in range(1,101)] if j%2 != 0]\n",
    "\n",
    "print(l)\n",
    "\n",
    "#Note:- The list inside the list,it create a numbers from 1 to 100 then another outside list used to filter the old numbers."
   ]
  },
  {
   "cell_type": "code",
   "execution_count": null,
   "id": "00d23ddf-a517-485b-bad7-dbb2b8fc9521",
   "metadata": {},
   "outputs": [],
   "source": []
  },
  {
   "cell_type": "code",
   "execution_count": null,
   "id": "c7feb93e-a1bf-47be-a644-898e5811af1d",
   "metadata": {},
   "outputs": [],
   "source": []
  },
  {
   "cell_type": "code",
   "execution_count": null,
   "id": "0773ae11-5976-4883-97e6-8cce0a588acc",
   "metadata": {},
   "outputs": [],
   "source": []
  }
 ],
 "metadata": {
  "kernelspec": {
   "display_name": "Python 3 (ipykernel)",
   "language": "python",
   "name": "python3"
  },
  "language_info": {
   "codemirror_mode": {
    "name": "ipython",
    "version": 3
   },
   "file_extension": ".py",
   "mimetype": "text/x-python",
   "name": "python",
   "nbconvert_exporter": "python",
   "pygments_lexer": "ipython3",
   "version": "3.10.8"
  }
 },
 "nbformat": 4,
 "nbformat_minor": 5
}
