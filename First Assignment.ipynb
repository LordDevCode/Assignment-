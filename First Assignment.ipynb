{
 "cells": [
  {
   "cell_type": "markdown",
   "id": "97619076-59cc-40dd-b3fd-9d831ecf7d6d",
   "metadata": {},
   "source": [
    "1. Who developed python Programming Language ?"
   ]
  },
  {
   "cell_type": "markdown",
   "id": "27c9de14-889b-44c5-a26e-d4bfa4629dce",
   "metadata": {},
   "source": [
    "=> Guido van Rossum developed python programming language and first released on February 20, 1991."
   ]
  },
  {
   "cell_type": "markdown",
   "id": "00362c43-6d80-46fe-b405-47baf272c516",
   "metadata": {},
   "source": [
    "2. which type of programming does python support ?"
   ]
  },
  {
   "cell_type": "markdown",
   "id": "5c1bbeed-51b6-4c14-9459-2e50135af943",
   "metadata": {},
   "source": [
    "=> Python is an interpreted programming language, supporting object-oriented, structured, and functional programming."
   ]
  },
  {
   "cell_type": "markdown",
   "id": "197a7af6-faf9-49da-ae68-43732a436fbf",
   "metadata": {},
   "source": [
    "3. is python is case sensitive when dealing with identifiers ?"
   ]
  },
  {
   "cell_type": "markdown",
   "id": "fd5dd998-aa8f-4c3a-8b66-8ef93076cda9",
   "metadata": {},
   "source": [
    "=> Yes, Python is a case-sensitive language, i.e., it consider uppercase and lowercase characters differently. \n",
    "ex  \n",
    "class = 15   \n",
    "Class = 30\n",
    "\n",
    "In First class variable name c is in lowercase hence python consider it as a keyword of class but in second case C is in uppercase hence python treated as different,hence we must avoid using the same name with different cases while naming identifiers."
   ]
  },
  {
   "cell_type": "markdown",
   "id": "d7e65c3d-8f69-41c3-9078-44cfa7c8c067",
   "metadata": {},
   "source": [
    "4. what is the correct extension of the python file?"
   ]
  },
  {
   "cell_type": "markdown",
   "id": "4e7fc791-104b-4533-9c51-dcf8e9175452",
   "metadata": {},
   "source": [
    "=> Python is a widely used programming or coding language used for different purposes. \n",
    "The extensions for Python files are - .py\n",
    "The extensions for python files in jupyther notebook - .pynb\n"
   ]
  },
  {
   "cell_type": "markdown",
   "id": "f20a0f17-305d-4744-88be-10592a908069",
   "metadata": {},
   "source": [
    "5. is python is compiled or interpreted ?"
   ]
  },
  {
   "cell_type": "markdown",
   "id": "c0e59ba9-61c8-4837-aa11-d62f81f64dd5",
   "metadata": {},
   "source": [
    "=> Python is both compiled as well as an interpreted language, which means when we run a python code, it is first compiled and then interpreted line by line. The compile part gets deleted as soon as the code gets executed in Python so that the programmer doesn't get onto unnecessary complexity."
   ]
  },
  {
   "cell_type": "markdown",
   "id": "6c3580bc-0bc2-4a39-a93d-4f5e696a1a6c",
   "metadata": {},
   "source": [
    "6. name a few block of code used to define in python language ?"
   ]
  },
  {
   "cell_type": "markdown",
   "id": "0a6bc761-55cd-4c10-a59a-e9ea6c4d451f",
   "metadata": {},
   "source": [
    "=> A module, a function body, and a class definition is block of code used to define in python language.\n",
    "Each command typed interactively is a block. "
   ]
  },
  {
   "cell_type": "markdown",
   "id": "8f15bbda-1baa-4f4a-9765-8421cb5e7f97",
   "metadata": {},
   "source": [
    "7.state a character used to define a single line comment in python ?"
   ]
  },
  {
   "cell_type": "markdown",
   "id": "926dbc9f-64ad-421a-b60a-220312f158fa",
   "metadata": {},
   "source": [
    "=> Hash character(#) is used to define a single line comment in the Python program. \n",
    "comment is not executed means it is ignore by python."
   ]
  },
  {
   "cell_type": "markdown",
   "id": "9c3c5cde-4d6f-4e5d-b778-3add6ec274c8",
   "metadata": {},
   "source": [
    "8.mention a name of function which can help us to find the version of python ?"
   ]
  },
  {
   "cell_type": "markdown",
   "id": "81a584ef-2ec0-4950-b74a-8c3ea3a5e1d7",
   "metadata": {},
   "source": [
    "=> The function sys. version can help us to find the version of python that we are currently working on. It also contains information on the build number and compiler used."
   ]
  },
  {
   "cell_type": "markdown",
   "id": "2d3b60ad-3d4b-4df3-b2c1-e6ed540c4fc9",
   "metadata": {},
   "source": [
    "9.python supports the creation of anonymous functions at runtime using a construct called ?"
   ]
  },
  {
   "cell_type": "markdown",
   "id": "9d5fcd7d-8ebe-42c2-af5e-749ad9c691de",
   "metadata": {},
   "source": [
    "=> python supports the creation of anonymous functions at runtime using a construct called lambda function."
   ]
  },
  {
   "cell_type": "markdown",
   "id": "7781439a-b622-4606-a38a-c9ee32c4cd74",
   "metadata": {},
   "source": [
    "10. what does the pip stands for python ?"
   ]
  },
  {
   "cell_type": "markdown",
   "id": "a9388b9a-3cd2-4389-b7b7-b47d95c46082",
   "metadata": {},
   "source": [
    "=> Pip stands for Preferred Installer Program or PIP Installs Packages. \n",
    "PIP is a package manager for Python packages, or modules if you like.\n",
    "Note: If you have Python version 3.4 or later, PIP is included by default."
   ]
  },
  {
   "cell_type": "markdown",
   "id": "3d9b9f44-fcf2-4757-9a0c-b8ceae566d10",
   "metadata": {},
   "source": [
    "11. mention few build in function in python ?"
   ]
  },
  {
   "cell_type": "markdown",
   "id": "fe2e0f35-d196-480f-90dd-98af1f40f92f",
   "metadata": {},
   "source": [
    "=> Build in function in python are :-\n",
    "int()\n",
    "len()\n",
    "bytes()\n",
    "type()\n",
    "abs()\n",
    "id()\n",
    "print()\n",
    "input().\n",
    "This is few functions that i have learned so far."
   ]
  },
  {
   "cell_type": "markdown",
   "id": "4ef319fe-eeac-4824-af81-fe3c05388179",
   "metadata": {},
   "source": [
    "12.what is maximum possible length of an identifier in python ?"
   ]
  },
  {
   "cell_type": "markdown",
   "id": "4859d936-6dea-4849-aa2b-fe9ce7c1bfa1",
   "metadata": {},
   "source": [
    "=> Python identifiers are unlimited in length\" but as per PEP-8 you should limit identifier to a maximum of 79 character for better readability but there is no restriction."
   ]
  },
  {
   "cell_type": "markdown",
   "id": "2bed45c4-6a8b-4708-9804-c54e0fdcf356",
   "metadata": {},
   "source": [
    "13.what is the benefits of using a python ?"
   ]
  },
  {
   "cell_type": "markdown",
   "id": "9b9219a8-c701-4664-b4b0-cb6386ae634d",
   "metadata": {},
   "source": [
    "=> In python we have number of library  that we can use for different purposes.\n",
    "Data-focused libraries like pandas, NumPy, and matplotlib make it very capable of processing, manipulating, and visualizing data hence which is why it's favored in data analysis.\n",
    "Over 125,000 third-party Python libraries exist that enable you to use Python for machine learning, web processing, and even biology. "
   ]
  },
  {
   "cell_type": "markdown",
   "id": "28b14ddb-35f3-49b7-9fc0-0bb64ea828c0",
   "metadata": {},
   "source": [
    "14.how is memory managed in python ?"
   ]
  },
  {
   "cell_type": "markdown",
   "id": "a81227c1-b8d3-45de-8758-0756f3727e9b",
   "metadata": {},
   "source": [
    "=> Memory in Python is managed by Python private heap space."
   ]
  },
  {
   "cell_type": "markdown",
   "id": "b0504f54-89fd-4d14-895b-26b7f0bd2ca3",
   "metadata": {},
   "source": [
    "15.how to install python in windows and set path variables ?"
   ]
  },
  {
   "cell_type": "markdown",
   "id": "a2dad0fd-e8d4-46f3-b88e-f53250733622",
   "metadata": {},
   "source": [
    "=> first of all we have to go in website to install a python in our system for that use a www.python.org official website ans than download latest version of python for windowwindows.\n",
    "After installing python in system than important task is to set a path variables.\n",
    "To set Path variable we have to go directory where a python is install Ganraly python install in \n",
    "C:\\Users\\Hp\\AppData\\Local\\Programs\\Python\\Python39 copy this path than go to the following location.\n",
    "\n",
    "Right-clicking This PC and going to Properties.\n",
    "Clicking on the Advanced system settings in the menu on the left.\n",
    "Clicking on the Environment Variables button of the bottom right.\n",
    "In the System variables section, selecting the Path variable and clicking on Edit. The next screen will show all the directories that are currently a part of the PATH variable.\n",
    "click on new and paste path that we have copied from directory.\n",
    "\n",
    "This is simple steps that everyone must have to follow."
   ]
  },
  {
   "cell_type": "markdown",
   "id": "a7d2911a-0298-40f2-bd2b-10b8b65ab447",
   "metadata": {},
   "source": [
    "16.is indentation required in python ?"
   ]
  },
  {
   "cell_type": "markdown",
   "id": "879d5201-40d3-41c8-b82e-94544df6296f",
   "metadata": {},
   "source": [
    "=> yes, indentation is very important in python because Python uses indentation to indicate a block of code.\n",
    "in other programming languages is only for readability but in python is for recognize the block of code."
   ]
  },
  {
   "cell_type": "code",
   "execution_count": null,
   "id": "9e12c3b3-ba00-489e-bd70-b1a979a19e62",
   "metadata": {},
   "outputs": [],
   "source": []
  }
 ],
 "metadata": {
  "kernelspec": {
   "display_name": "Python 3 (ipykernel)",
   "language": "python",
   "name": "python3"
  },
  "language_info": {
   "codemirror_mode": {
    "name": "ipython",
    "version": 3
   },
   "file_extension": ".py",
   "mimetype": "text/x-python",
   "name": "python",
   "nbconvert_exporter": "python",
   "pygments_lexer": "ipython3",
   "version": "3.10.8"
  }
 },
 "nbformat": 4,
 "nbformat_minor": 5
}
