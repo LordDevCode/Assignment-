{
 "cells": [
  {
   "cell_type": "code",
   "execution_count": 1,
   "id": "1320a0b6-1d47-4c9b-aca0-c5514b5d8e10",
   "metadata": {},
   "outputs": [
    {
     "name": "stdout",
     "output_type": "stream",
     "text": [
      "Sorted list of tuple based on the integer value [('Virat Kohli', 24936), ('Jack Kallis', 25534), ('Ricky Ponting', 27483), ('Sachin Tendulkar', 34357)].\n"
     ]
    }
   ],
   "source": [
    "# Q1. Create a python program to sort the given list of tuples based on integer value using a\n",
    "# lambda function.\n",
    "# [('Sachin Tendulkar', 34357), ('Ricky Ponting', 27483), ('Jack Kallis', 25534), ('Virat Kohli', 24936)]\n",
    "\n",
    "given_list_tuple = [('Sachin Tendulkar', 34357), ('Ricky Ponting', 27483), ('Jack Kallis', 25534), ('Virat Kohli', 24936)]\n",
    "\n",
    "sorted_list = sorted(given_list_tuple, key = lambda tup : tup[1])\n",
    "\n",
    "print(f\"Sorted list of tuple based on the integer value {sorted_list}\"+\".\")\n"
   ]
  },
  {
   "cell_type": "code",
   "execution_count": 2,
   "id": "5046720e-3a32-4e3a-b0a0-6bab96f5b4cc",
   "metadata": {},
   "outputs": [
    {
     "name": "stdout",
     "output_type": "stream",
     "text": [
      "The list of square of number in list is [1, 4, 9, 16, 25, 36, 49, 64, 81, 100].\n"
     ]
    }
   ],
   "source": [
    "# # Q2. Write a Python Program to find the squares of all the numbers in the given list of integers using\n",
    "# lambda and map functions.\n",
    "# [1, 2, 3, 4, 5, 6, 7, 8, 9, 10]\n",
    "\n",
    "given_list = [1, 2, 3, 4, 5, 6, 7, 8, 9,10]\n",
    "lambda_func_for_sqr = lambda x : x**2\n",
    "\n",
    "sqr = list(map(lambda_func_for_sqr, given_list))\n",
    "\n",
    "print(f\"The list of square of number in list is {sqr}\"+\".\")\n"
   ]
  },
  {
   "cell_type": "code",
   "execution_count": 3,
   "id": "5de2d14b-8650-48d9-b457-57ac8ca1d4f8",
   "metadata": {},
   "outputs": [
    {
     "name": "stdout",
     "output_type": "stream",
     "text": [
      "('1', '2', '3', '4', '5', '6', '7', '8', '9', '10')\n"
     ]
    }
   ],
   "source": [
    "# Q3. Write a python program to convert the given list of integers into a tuple of strings. \n",
    "# Use map and lambda functions.\n",
    "# Given String: [1, 2, 3, 4, 5, 6, 7, 8, 9, 10]\n",
    "# Expected output: ('1', '2', '3', '4', '5', '6', '7', '8', '9', '10')\n",
    "\n",
    "given_list_of_int =  [1, 2, 3, 4, 5, 6, 7, 8, 9, 10]\n",
    "\n",
    "lambda_func_for_Str = lambda x : str(x)\n",
    "\n",
    "tup_of_str = tuple(map(lambda_func_for_Str,given_list_of_int))\n",
    "\n",
    "print(tup_of_str)\n"
   ]
  },
  {
   "cell_type": "code",
   "execution_count": 4,
   "id": "be4ab79d-5f0e-4e04-bdb3-f22b01397eba",
   "metadata": {},
   "outputs": [
    {
     "name": "stdout",
     "output_type": "stream",
     "text": [
      "[1, 2, 3, 4, 5, 6, 7, 8, 9, 10, 11, 12, 13, 14, 15, 16, 17, 18, 19, 20, 21, 22, 23, 24, 25]\n",
      "Product of number from 1 to 25 is 15511210043330985984000000.\n"
     ]
    }
   ],
   "source": [
    "# Q4. Write a python program using reduce function to compute the product of a list containing numbers from 1 to 25.\n",
    "\n",
    "from functools import reduce\n",
    "\n",
    "list_of_nums = [i for i in range(1,26)]\n",
    "lambda_func_product =  lambda x,y : x*y\n",
    "\n",
    "product_of_list = reduce(lambda_func_product,list_of_nums)\n",
    "\n",
    "\n",
    "print(list_of_nums)\n",
    "print(f\"Product of number from 1 to 25 is {product_of_list}\"+\".\")"
   ]
  },
  {
   "cell_type": "code",
   "execution_count": 5,
   "id": "4885257c-d6d3-46d5-a968-515bb6060405",
   "metadata": {},
   "outputs": [
    {
     "name": "stdout",
     "output_type": "stream",
     "text": [
      "The numbers which is divisible by 2 and 3 from given list is [6, 60, 90, 120].\n"
     ]
    }
   ],
   "source": [
    "# Q5. Write a python program to filter the numbers in a given list that are divisible by 2 and 3 using the filter function.\n",
    "# [2, 3, 6, 9, 27, 60, 90, 120, 55, 46]\n",
    "\n",
    "given_list = [2, 3, 6, 9, 27, 60, 90, 120, 55, 46]\n",
    "\n",
    "lambda_func_diviBy_2and3 = lambda n : n%2 == 0 and n%3 == 0\n",
    "\n",
    "divisible_by2and3 = list(filter(lambda_func_diviBy_2and3,given_list))\n",
    "\n",
    "print(f\"The numbers which is divisible by 2 and 3 from given list is {divisible_by2and3}\"+\".\")\n",
    "                         \n",
    "#Note :- Above program is to filter the given number of list that is divisible by 2  \"and\"  3 accroding to question.(not a divisible by 2 \"or\" 3)."
   ]
  },
  {
   "cell_type": "code",
   "execution_count": 6,
   "id": "d7d18c09-e2cf-4314-806b-1602a9a6fac7",
   "metadata": {},
   "outputs": [
    {
     "name": "stdout",
     "output_type": "stream",
     "text": [
      "Palindromes Strings from given list of string :- ['php', 'aba', 'radar', 'level']\n"
     ]
    }
   ],
   "source": [
    "# Q6. Write a python program to find palindromes in the given list of strings using lambda and filter\n",
    "# function.\n",
    "# ['python', 'php', 'aba', 'radar', 'level']\n",
    "\n",
    "\n",
    "given_list_of_str = ['python', 'php', 'aba', 'radar', 'level']\n",
    "\n",
    "lambda_for_palindromes = lambda s : s == \"\".join(reversed(s))\n",
    "\n",
    "filtered_palindromes = list(filter(lambda_for_palindromes,given_list_of_str))\n",
    "\n",
    "print(f\"Palindromes Strings from given list of string :- {filtered_palindromes}\")"
   ]
  },
  {
   "cell_type": "code",
   "execution_count": null,
   "id": "846ee8a3-eef0-41c1-96bd-37a96663ddab",
   "metadata": {},
   "outputs": [],
   "source": []
  }
 ],
 "metadata": {
  "kernelspec": {
   "display_name": "Python 3 (ipykernel)",
   "language": "python",
   "name": "python3"
  },
  "language_info": {
   "codemirror_mode": {
    "name": "ipython",
    "version": 3
   },
   "file_extension": ".py",
   "mimetype": "text/x-python",
   "name": "python",
   "nbconvert_exporter": "python",
   "pygments_lexer": "ipython3",
   "version": "3.10.8"
  }
 },
 "nbformat": 4,
 "nbformat_minor": 5
}
