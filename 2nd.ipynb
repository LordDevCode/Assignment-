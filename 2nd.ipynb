{
 "cells": [
  {
   "cell_type": "code",
   "execution_count": 16,
   "id": "5048f073-8baf-4c36-bdff-7e49131b9e69",
   "metadata": {},
   "outputs": [
    {
     "name": "stdin",
     "output_type": "stream",
     "text": [
      "Enter Your percentage :-  91\n"
     ]
    },
    {
     "name": "stdout",
     "output_type": "stream",
     "text": [
      "You have got a A+ Grade.\n"
     ]
    }
   ],
   "source": [
    "#1. Write program that accepts percentage from the user and display a grade accroding to given criteria.\n",
    "\n",
    "percentage  = int(input(\"Enter Your percentage :- \"))\n",
    "\n",
    "if percentage < 0 or percentage > 100:\n",
    "    print(\"Wrong Input, Try again.\")\n",
    "elif percentage > 90:\n",
    "    print(\"You have got a A+ Grade.\")\n",
    "elif percentage > 80 and percentage<= 90:\n",
    "    print(\"You have got a B+ Grade.\")\n",
    "elif percentage >= 60 and percentage<=80:\n",
    "    print(\"You have got a C+ Grade.\")\n",
    "else:\n",
    "    print(\"You have got a D+ Grade, Give some focus towards studies also\")"
   ]
  },
  {
   "cell_type": "code",
   "execution_count": 30,
   "id": "6226c1d2-424f-46b5-9bad-836f33c7f57e",
   "metadata": {},
   "outputs": [
    {
     "name": "stdin",
     "output_type": "stream",
     "text": [
      "Enter the cost price of Your Bike in Rupees  :-  60000\n"
     ]
    },
    {
     "name": "stdout",
     "output_type": "stream",
     "text": [
      "You Paid 10% road tax.\n"
     ]
    }
   ],
   "source": [
    "#2. Write a program to accept the cost price of a bike and display the road tak to be paid accroding to the following criteria:\n",
    "\n",
    "cost_price = int(input(\"Enter the cost price of Your Bike in Rupees  :- \"))\n",
    "\n",
    "if cost_price < 0:\n",
    "    print(\"Wrong Input, Try again.\")\n",
    "elif cost_price > 100000:\n",
    "    print(\"You Paid 15% road tax.\")\n",
    "elif cost_price > 50000 and cost_price <= 100000:\n",
    "    print(\"You Paid 10% road tax.\")\n",
    "elif cost_price <= 50000:\n",
    "    print(\"You Paid 5% road tax.\")\n",
    "              "
   ]
  },
  {
   "cell_type": "code",
   "execution_count": 37,
   "id": "72134a3a-dcff-46cf-abbc-0ce9a2510062",
   "metadata": {},
   "outputs": [
    {
     "name": "stdin",
     "output_type": "stream",
     "text": [
      "Enter the name of city :-  Jaipur\n"
     ]
    },
    {
     "name": "stdout",
     "output_type": "stream",
     "text": [
      "The Monument of Jaipur is Jal Mahal\n"
     ]
    }
   ],
   "source": [
    "#3. Accept any city from the user and display monuments of that city.\n",
    "\n",
    "city_name = input(\"Enter the name of city :- \")\n",
    "\n",
    "if city_name == \"Nagpur\":\n",
    "    print(f\"The Monument of {city_name} is Deekshabhoomi\")\n",
    "elif city_name == \"Mumbai\":\n",
    "    print(f\"The Monument of {city_name} is Gateway Of India\")\n",
    "elif city_name == \"Delhi\":\n",
    "    print(f\"The Monument of {city_name} is Red Fort\")\n",
    "elif city_name == \"Agra\":\n",
    "    print(f\"The Monument of {city_name} is Taj Mahal\")\n",
    "elif city_name == \"Jaipur\":\n",
    "    print(f\"The Monument of {city_name} is Jal Mahal\")\n",
    "\n",
    "#Note:- Sorry sir, I have given some more cities from my side, so."
   ]
  },
  {
   "cell_type": "code",
   "execution_count": 8,
   "id": "8343fec5-8c49-418c-b2e1-832dc61005f5",
   "metadata": {},
   "outputs": [
    {
     "name": "stdin",
     "output_type": "stream",
     "text": [
      "Enter the Number :-  900\n"
     ]
    },
    {
     "name": "stdout",
     "output_type": "stream",
     "text": [
      "5 times a given number can be divided by 3 before it is less than or equal to 10.\n"
     ]
    }
   ],
   "source": [
    "#4. Check how many times a given number can be divided by 3 before it is less than or equal to 10.\n",
    "\n",
    "num = int(input(\"Enter the Number :- \"))\n",
    "Time = 0\n",
    "if num < 0:\n",
    "    print(\"Wrong Input, Give a Positive Number\")\n",
    "else:\n",
    "    while num > 10:\n",
    "        # num = num / 3\n",
    "        num/=3\n",
    "        # Time = Time + 1\n",
    "        Time+=1\n",
    "    \n",
    "    print(f\"{Time} times a given number can be divided by 3 before it is less than or equal to 10.\")\n",
    "    "
   ]
  },
  {
   "cell_type": "code",
   "execution_count": 59,
   "id": "d0cbab7e-8775-4a0a-9c26-6d17957fb249",
   "metadata": {},
   "outputs": [
    {
     "name": "stdin",
     "output_type": "stream",
     "text": [
      "Enter Your Username :-  himanshu\n",
      "Re-Enter Your Username :-  priyanshu\n",
      "Re-Enter Your Username :-  priyanshu123\n",
      "Re-Enter Your Username :-  priyanshu966\n",
      "Re-Enter Your Username :-  tushar96\n",
      "Re-Enter Your Username :-  tushar753\n",
      "Re-Enter Your Username :-  priyanshu753\n",
      "Enter Your correct login password :-  754\n",
      "Enter Your correct login password :-  159\n",
      "Enter Your correct login password :-  963\n",
      "Enter Your correct login password :-  75698\n",
      "Enter Your correct login password :-  852\n"
     ]
    },
    {
     "name": "stdout",
     "output_type": "stream",
     "text": [
      "Login Successfully\n"
     ]
    }
   ],
   "source": [
    "#Why and when to ue while loop in python give a detailed description with example.\n",
    "#->  1.Generally, while loop is used when we do not know how many times the loop has to be executed.(Don't know the number of iteration).\n",
    "#    because the while loop will execute only if the given condition is true. \n",
    "#    2.we can use for loop when we know the number of iteration.\n",
    "#    Example:-\n",
    "    \n",
    "username = input(\"Enter Your Username :- \")\n",
    "while username != \"priyanshu753\":\n",
    "    username = input(\"Re-Enter Your Username :- \")\n",
    "    \n",
    "password = int(input(\"Enter Your correct login password :- \"))\n",
    "        \n",
    "while password != 852:\n",
    "    password = int(input(\"Enter Your correct login password :- \"))\n",
    "        \n",
    "print(\"Login Successfully\")\n",
    "\n",
    "#In above example I tried to explain working of loop, in this example we don't know number of iteration when loop will end, \n",
    "#so I used while loop, whenever user gives wrong input (condition is true) So the loop will execute and ask to re-enter username or password again.\n"
   ]
  },
  {
   "cell_type": "code",
   "execution_count": 13,
   "id": "d60cb995-f7ad-4fcc-abf4-1b575abe1ae7",
   "metadata": {},
   "outputs": [
    {
     "name": "stdin",
     "output_type": "stream",
     "text": [
      "Enter the number of rows :-  5\n"
     ]
    },
    {
     "name": "stdout",
     "output_type": "stream",
     "text": [
      " * \n",
      " *  * \n",
      " *  *  * \n",
      " *  *  *  * \n",
      " *  *  *  *  * \n",
      "\n",
      "             * \n",
      "          *  * \n",
      "       *  *  * \n",
      "    *  *  *  * \n",
      " *  *  *  *  * \n",
      "\n",
      " *  *  *  *  * \n",
      " *  *  *  *  * \n",
      " *  *  *  *  * \n",
      " *  *  *  *  * \n",
      " *  *  *  *  * \n"
     ]
    }
   ],
   "source": [
    "#6.Use nestted while loop to print 3 different pattern.\n",
    "\n",
    "row = int(input(\"Enter the number of rows :- \"))\n",
    "#column = int(input(\"Enter the number of column :- \"))\n",
    "\n",
    "i = 1\n",
    "j = 1\n",
    "while(i<=row):\n",
    "    while(j<=i):\n",
    "        print(\" * \",end=\"\")\n",
    "        j+=1\n",
    "    i+=1\n",
    "    j=1\n",
    "    print()\n",
    "    \n",
    "print()\n",
    "\n",
    "i = 1\n",
    "j = 1\n",
    "while(i<=row):\n",
    "    while(j<=row):\n",
    "        if j<=row-i:\n",
    "            print(\"   \",end=\"\")\n",
    "        else:\n",
    "            print(\" * \",end=\"\")\n",
    "        j+=1\n",
    "    print()\n",
    "    i+=1\n",
    "    j=1\n",
    "\n",
    "print()\n",
    "\n",
    "i = 1\n",
    "j = 1\n",
    "\n",
    "while i<=row:\n",
    "    while j<=row:\n",
    "        print(\" * \",end=\"\")\n",
    "        j+=1\n",
    "    print()\n",
    "    i+=1\n",
    "    j=1\n",
    "\n",
    "\n",
    " #Note :-  Sir you have not uploaded any video on loop pattern questions thats why i learn only few pattern and following is related to thesis."
   ]
  },
  {
   "cell_type": "code",
   "execution_count": 7,
   "id": "75f7e0e5-9148-43a8-9e50-5299fde72b9e",
   "metadata": {},
   "outputs": [
    {
     "name": "stdout",
     "output_type": "stream",
     "text": [
      "10\n",
      "9\n",
      "8\n",
      "7\n",
      "6\n",
      "5\n",
      "4\n",
      "3\n",
      "2\n",
      "1\n"
     ]
    }
   ],
   "source": [
    "#7.Reverse a while loop to display numbers from 10 to 1.\n",
    "\n",
    "i = 10\n",
    "\n",
    "while i > 0:\n",
    "    print(i)\n",
    "    i-=1"
   ]
  },
  {
   "cell_type": "code",
   "execution_count": 6,
   "id": "2f525740-025d-4d4a-9c92-61d17caca643",
   "metadata": {},
   "outputs": [
    {
     "name": "stdin",
     "output_type": "stream",
     "text": [
      "Enter the number :-  123\n"
     ]
    },
    {
     "name": "stdout",
     "output_type": "stream",
     "text": [
      "321"
     ]
    }
   ],
   "source": [
    "#8. This question is repeted in given assignment,so i solve another question by my own.\n",
    "#accept the number and Reverse It without using string reverse function:\n",
    "\n",
    "num = int(input(\"Enter the number :- \"))\n",
    "\n",
    "while num!= 0:\n",
    "    \n",
    "    print(num%10,end=\"\")\n",
    "    num //= 10\n"
   ]
  },
  {
   "cell_type": "code",
   "execution_count": null,
   "id": "51f4a951-2eda-4d7e-a384-0f665a34a31b",
   "metadata": {},
   "outputs": [],
   "source": []
  }
 ],
 "metadata": {
  "kernelspec": {
   "display_name": "Python 3 (ipykernel)",
   "language": "python",
   "name": "python3"
  },
  "language_info": {
   "codemirror_mode": {
    "name": "ipython",
    "version": 3
   },
   "file_extension": ".py",
   "mimetype": "text/x-python",
   "name": "python",
   "nbconvert_exporter": "python",
   "pygments_lexer": "ipython3",
   "version": "3.10.8"
  }
 },
 "nbformat": 4,
 "nbformat_minor": 5
}
