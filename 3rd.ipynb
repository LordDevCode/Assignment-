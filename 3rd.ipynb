{
 "cells": [
  {
   "cell_type": "code",
   "execution_count": 1,
   "id": "cfb2a32b-f97c-4ff8-8d4d-6ee6637b24d6",
   "metadata": {},
   "outputs": [
    {
     "name": "stdout",
     "output_type": "stream",
     "text": [
      "0 2 4 6 8 10 \n",
      "0 2 4 6 8 10 12 14 16 18 20 22 24 26 28 30 32 34 36 38 40 42 44 46 48 50 52 54 56 58 60 62 64 66 68 70 72 74 76 78 80 82 84 86 88 90 92 94 96 98 100 102 104 106 108 110 112 114 116 118 120 122 124 126 128 130 132 134 136 138 140 142 144 146 148 150 152 154 156 158 160 162 164 166 168 170 172 174 176 178 180 182 184 186 188 190 192 194 196 198 "
     ]
    }
   ],
   "source": [
    "#Q1. Explain with an example each when to use a for loop and a while loop.\n",
    "#= Generally, The for loop is used when we knows the number of iteration of loop.\n",
    "#Example-\n",
    "\n",
    "# i. print the even numbers between the 0 to  10  numbers,\n",
    "\n",
    "for i in range(10+1):\n",
    "    if i % 2 == 0:\n",
    "        print(i,end=\" \")\n",
    "\n",
    "        \n",
    "#-> In this above for loop is used because we know the range to print the even numbers. i.e 0 to 10.\n",
    "\n",
    "print()\n",
    "\n",
    "#=> while loop is used when we do not know the number of iteration.\n",
    "# ii. print the first 100 even numbers.\n",
    "\n",
    "counter = 1\n",
    "i = 0\n",
    "\n",
    "while counter <= 100:\n",
    "    if i % 2 == 0:\n",
    "        print(i,end=\" \")\n",
    "        counter+=1\n",
    "    i+=1\n",
    "#-> In the second example above, the while loop is used because we do not know when to execute the first 100 even numbers.\n",
    "    \n",
    "#Note:- we can do some of program using for as well as while loop."
   ]
  },
  {
   "cell_type": "code",
   "execution_count": 5,
   "id": "e4e36763-2c34-4da1-b6f1-a07c450ad394",
   "metadata": {},
   "outputs": [
    {
     "name": "stdout",
     "output_type": "stream",
     "text": [
      "The Sum First 10 number is 55 and Product of First 10 number is 3628800.\n",
      "The Sum First 10 number is 55 and Product of First 10 number is 3628800.\n"
     ]
    }
   ],
   "source": [
    "#Q2. Write a python program to print the sum and product of the first 10 natural numbers using for and while loop.\n",
    "\n",
    "#Sum and product of first 10 natural numbers using for loop.\n",
    "\n",
    "Sum = 0\n",
    "Product = 1\n",
    "\n",
    "for i in range(1,11):\n",
    "    Sum += i\n",
    "    Product *= i\n",
    "\n",
    "print(f\"The Sum First 10 number is {Sum} and Product of First 10 number is {Product}.\")\n",
    "\n",
    "#Sum and product of first 10 natural numbers using while  loop.\n",
    "\n",
    "Sum = 0\n",
    "Product = 1\n",
    "i = 1\n",
    "\n",
    "while i<=10:\n",
    "    Sum+=i\n",
    "    Product*=i\n",
    "    i+=1\n",
    "print(f\"The Sum First 10 number is {Sum} and Product of First 10 number is {Product}.\")"
   ]
  },
  {
   "cell_type": "code",
   "execution_count": 12,
   "id": "bba04390-32d1-4852-9c58-608a41144db4",
   "metadata": {},
   "outputs": [
    {
     "name": "stdin",
     "output_type": "stream",
     "text": [
      "Enter the the units of electricity consumed in a month :-  310\n"
     ]
    },
    {
     "name": "stdout",
     "output_type": "stream",
     "text": [
      "Your Total Household Electricity Bill is 2250.0 Rs\n"
     ]
    }
   ],
   "source": [
    "#Q3. Create a python program to compute the electricity bill for a household.\n",
    "\n",
    "month_unit = int(input(\"Enter the the units of electricity consumed in a month :- \"))\n",
    "\n",
    "electricity_bill = 0\n",
    "if month_unit>=0 and month_unit <= 100:\n",
    "    electricity_bill = month_unit * 4.5\n",
    "elif month_unit>=101 and month_unit <= 200:\n",
    "    above_unit = month_unit - 100\n",
    "    electricity_bill = above_unit * 6 + 100 * 4.5\n",
    "elif month_unit>=201 and month_unit <= 300:\n",
    "    above_unit = month_unit - 200\n",
    "    electricity_bill = above_unit * 10 + 100 * 4.5 + 100 * 6\n",
    "else:\n",
    "    above_unit = month_unit - 300\n",
    "    electricity_bill = above_unit * 20 + 100 * 4.5 + 100 * 6 + 100 * 10\n",
    "\n",
    "print(f\"Your Total Household Electricity Bill is {electricity_bill} Rs\")\n",
    "    "
   ]
  },
  {
   "cell_type": "code",
   "execution_count": 25,
   "id": "808fceeb-aa65-43a3-a1c5-4c921642f420",
   "metadata": {},
   "outputs": [
    {
     "name": "stdout",
     "output_type": "stream",
     "text": [
      "[2, 4, 5, 6, 8, 10, 12, 14, 15, 16, 18, 20, 22, 24, 25, 26, 28, 30, 32, 34, 35, 36, 38, 40, 42, 44, 45, 46, 48, 50, 52, 54, 55, 56, 58, 60, 62, 64, 65, 66, 68, 70, 72, 74, 75, 76, 78, 80, 82, 84, 85, 86, 88, 90, 92, 94, 95, 96, 98, 100]\n",
      "\n",
      "[2, 4, 5, 6, 8, 10, 12, 14, 15, 16, 18, 20, 22, 24, 25, 26, 28, 30, 32, 34, 35, 36, 38, 40, 42, 44, 45, 46, 48, 50, 52, 54, 55, 56, 58, 60, 62, 64, 65, 66, 68, 70, 72, 74, 75, 76, 78, 80, 82, 84, 85, 86, 88, 90, 92, 94, 95, 96, 98, 100]\n"
     ]
    }
   ],
   "source": [
    "#Q4. Create a list of numbers from 1 to 100. Use for loop and while loop to calculate the cube of each\n",
    "#number and if the cube of that number is divisible by 4 or 5 then append that number in a list and print\n",
    "#that list.\n",
    "\n",
    "l1 = list(range(1,101))\n",
    "l2 = []\n",
    "cube = 0\n",
    "for i in l1:\n",
    "    cube = i ** 3\n",
    "    if cube%4==0 or cube%5==0:\n",
    "        l2.append(i)\n",
    "print(l2)\n",
    "\n",
    "print()\n",
    "\n",
    "l2.clear()\n",
    "cube = 0\n",
    "i = 1 \n",
    "while i<=100:\n",
    "    cube = i ** 3\n",
    "    if cube%4==0 or cube%5==0:\n",
    "        l2.append(i)\n",
    "    i+=1\n",
    "print(l2)\n",
    "    \n",
    "\n"
   ]
  },
  {
   "cell_type": "code",
   "execution_count": 7,
   "id": "d28bfa2e-6b73-4e68-b9e3-bfb9c843ec35",
   "metadata": {},
   "outputs": [
    {
     "name": "stdout",
     "output_type": "stream",
     "text": [
      "The Total number of vowels in below-givin string is :- 12\n"
     ]
    }
   ],
   "source": [
    "#Q5. Write a program to filter count vowels in the below-given string.\n",
    "\n",
    "string = \"I want to become a data scientist\"\n",
    "l = ['a','e','i','o','u','A','E','I','O','U']\n",
    "count = 0\n",
    "\n",
    "for i in string:\n",
    "    if i in l:\n",
    "        count+=1\n",
    "\n",
    "print(\"The Total number of vowels in below-givin string is :- {}\".format(count))        \n",
    "\n",
    "#Sir, I didn't understand this question, what is filter count vowels, I thought this question ask to count vowels, so I write a program according to it."
   ]
  },
  {
   "cell_type": "code",
   "execution_count": null,
   "id": "16dd656e-2783-49e9-a23b-33179d476be2",
   "metadata": {},
   "outputs": [],
   "source": []
  }
 ],
 "metadata": {
  "kernelspec": {
   "display_name": "Python 3 (ipykernel)",
   "language": "python",
   "name": "python3"
  },
  "language_info": {
   "codemirror_mode": {
    "name": "ipython",
    "version": 3
   },
   "file_extension": ".py",
   "mimetype": "text/x-python",
   "name": "python",
   "nbconvert_exporter": "python",
   "pygments_lexer": "ipython3",
   "version": "3.10.8"
  }
 },
 "nbformat": 4,
 "nbformat_minor": 5
}
